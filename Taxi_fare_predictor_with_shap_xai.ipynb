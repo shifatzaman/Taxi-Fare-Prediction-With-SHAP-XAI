{
  "nbformat": 4,
  "nbformat_minor": 0,
  "metadata": {
    "colab": {
      "name": "Taxi-fare-predictor-with-shap-xai.ipynb",
      "provenance": [],
      "collapsed_sections": [],
      "authorship_tag": "ABX9TyNgHZGKwF0eii+7J6B6xuhD",
      "include_colab_link": true
    },
    "kernelspec": {
      "name": "python3",
      "display_name": "Python 3"
    },
    "language_info": {
      "name": "python"
    }
  },
  "cells": [
    {
      "cell_type": "markdown",
      "metadata": {
        "id": "view-in-github",
        "colab_type": "text"
      },
      "source": [
        "<a href=\"https://colab.research.google.com/github/shifatzaman/Taxi-Fare-Prediction-With-SHAP-XAI/blob/main/Taxi_fare_predictor_with_shap_xai.ipynb\" target=\"_parent\"><img src=\"https://colab.research.google.com/assets/colab-badge.svg\" alt=\"Open In Colab\"/></a>"
      ]
    },
    {
      "cell_type": "code",
      "metadata": {
        "id": "vYtetvRewZUa",
        "collapsed": true
      },
      "source": [
        "!pip install category_encoders\n",
        "!pip install -U scikit-learn\n",
        "!pip install shap\n",
        "\n",
        "import pandas as pd\n",
        "import numpy as np\n",
        "import matplotlib.pyplot as plt\n",
        "%matplotlib inline\n",
        "import category_encoders as ce\n",
        "import shap\n",
        "from sklearn.linear_model import LinearRegression\n",
        "from sklearn.ensemble import  RandomForestRegressor\n",
        "from sklearn.model_selection import train_test_split\n",
        "from sklearn.metrics import mean_squared_error\n",
        "from sklearn.metrics import mean_absolute_error\n",
        "from sklearn.metrics import mean_absolute_percentage_error\n"
      ],
      "execution_count": null,
      "outputs": []
    },
    {
      "cell_type": "code",
      "metadata": {
        "id": "XZhJbuYd6tWm"
      },
      "source": [
        "trainDataUrl = 'https://raw.githubusercontent.com/shifatzaman/Taxi-Fare-Prediction-With-SHAP-XAI/main/taxi-fare-train.csv'\n",
        "train_data = pd.read_csv(trainDataUrl)\n",
        "# train_data.head()"
      ],
      "execution_count": 36,
      "outputs": []
    },
    {
      "cell_type": "code",
      "metadata": {
        "id": "ojJFY6VE8XRD"
      },
      "source": [
        "testDataUrl = 'https://raw.githubusercontent.com/shifatzaman/Taxi-Fare-Prediction-With-SHAP-XAI/main/taxi-fare-test.csv'\n",
        "test_data = pd.read_csv(testDataUrl)\n",
        "# test_data.head()"
      ],
      "execution_count": 37,
      "outputs": []
    },
    {
      "cell_type": "code",
      "metadata": {
        "id": "DhkShETd8uoL"
      },
      "source": [
        "train_data.isna().sum() "
      ],
      "execution_count": null,
      "outputs": []
    },
    {
      "cell_type": "code",
      "metadata": {
        "id": "lN3Qwngk_0tZ"
      },
      "source": [
        "train_data.dtypes"
      ],
      "execution_count": null,
      "outputs": []
    },
    {
      "cell_type": "code",
      "metadata": {
        "id": "B4lY6fbG_qmB"
      },
      "source": [
        "OHE = ce.OneHotEncoder(cols=['vendor_id',\n",
        "                             'payment_type'],use_cat_names=True)\n",
        "# encode the categorical variables\n",
        "train_data = OHE.fit_transform(train_data)\n",
        "test_data = OHE.fit_transform(test_data)"
      ],
      "execution_count": null,
      "outputs": []
    },
    {
      "cell_type": "code",
      "metadata": {
        "id": "coDjt04-C5U6"
      },
      "source": [
        "train_X = train_data.drop(columns=['fare_amount'])\n",
        "train_Y = train_data['fare_amount']\n",
        "test_X = test_data.drop(columns=['fare_amount'])\n",
        "test_Y = test_data['fare_amount']"
      ],
      "execution_count": 41,
      "outputs": []
    },
    {
      "cell_type": "code",
      "metadata": {
        "id": "ZyVNmsaxDhm2"
      },
      "source": [
        "model_LR = LinearRegression()\n",
        "\n",
        "# fit the model with the training data\n",
        "model_LR.fit(train_X, train_Y)\n"
      ],
      "execution_count": null,
      "outputs": []
    },
    {
      "cell_type": "code",
      "metadata": {
        "id": "1iaFl6-2YikU"
      },
      "source": [
        "predict_train = model_LR.predict(train_X)"
      ],
      "execution_count": 43,
      "outputs": []
    },
    {
      "cell_type": "code",
      "metadata": {
        "colab": {
          "base_uri": "https://localhost:8080/"
        },
        "id": "yQxVIg4ybFHf",
        "outputId": "eaaa1f81-d19b-4b4f-cf57-28ff5eb9055f"
      },
      "source": [
        "print('Mean absolute error on train data: ', mean_absolute_error(train_Y, predict_train))"
      ],
      "execution_count": 44,
      "outputs": [
        {
          "output_type": "stream",
          "name": "stdout",
          "text": [
            "Mean absolute error on train data:  0.8483768403392281\n"
          ]
        }
      ]
    },
    {
      "cell_type": "code",
      "metadata": {
        "colab": {
          "base_uri": "https://localhost:8080/"
        },
        "id": "BL_EO5A5d7it",
        "outputId": "e941b7f4-96dc-41c7-e678-4138947b6c0a"
      },
      "source": [
        "print('Mean absolute error percentage on train data: ', mean_absolute_percentage_error(train_Y, predict_train))"
      ],
      "execution_count": 45,
      "outputs": [
        {
          "output_type": "stream",
          "name": "stdout",
          "text": [
            "Mean absolute error percentage on train data:  0.07358908309404945\n"
          ]
        }
      ]
    },
    {
      "cell_type": "code",
      "metadata": {
        "id": "D5GWlWW1H1Tn"
      },
      "source": [
        "predict_test = model_LR.predict(test_X)"
      ],
      "execution_count": 46,
      "outputs": []
    },
    {
      "cell_type": "code",
      "metadata": {
        "colab": {
          "base_uri": "https://localhost:8080/"
        },
        "id": "vqAjSmDqIHfV",
        "outputId": "67d46c28-79b7-40bc-f781-26fcdafb2b15"
      },
      "source": [
        "print('Mean absolute error on test data: ', mean_absolute_error(test_Y, predict_test))"
      ],
      "execution_count": 47,
      "outputs": [
        {
          "output_type": "stream",
          "name": "stdout",
          "text": [
            "Mean absolute error on test data:  0.8732104119874754\n"
          ]
        }
      ]
    },
    {
      "cell_type": "code",
      "metadata": {
        "colab": {
          "base_uri": "https://localhost:8080/"
        },
        "id": "LlvjTzETIU2g",
        "outputId": "1515ee24-961a-4a81-f8c6-723573b163a7"
      },
      "source": [
        "print('Mean absolute error percentage on test data: ', mean_absolute_percentage_error(test_Y, predict_test))"
      ],
      "execution_count": 48,
      "outputs": [
        {
          "output_type": "stream",
          "name": "stdout",
          "text": [
            "Mean absolute error percentage on test data:  0.07721807521611289\n"
          ]
        }
      ]
    },
    {
      "cell_type": "code",
      "metadata": {
        "id": "1nYFuJpdLxdo"
      },
      "source": [
        "print(\"Model coefficients:\\n\")\n",
        "for i in range(test_X.shape[1]):\n",
        "    print(train_X.columns[i], \"=\", model_LR.coef_[i].round(4))"
      ],
      "execution_count": null,
      "outputs": []
    },
    {
      "cell_type": "code",
      "metadata": {
        "id": "9gbNKo8bJMei"
      },
      "source": [
        "X100 = shap.utils.sample(test_X, 100)"
      ],
      "execution_count": 50,
      "outputs": []
    },
    {
      "cell_type": "code",
      "metadata": {
        "id": "8R6VqvK3KzIb"
      },
      "source": [
        "explainer = shap.Explainer(model_LR.predict, X100)\n",
        "shap_values = explainer(test_X.head(100))"
      ],
      "execution_count": 51,
      "outputs": []
    },
    {
      "cell_type": "code",
      "metadata": {
        "colab": {
          "base_uri": "https://localhost:8080/",
          "height": 488
        },
        "id": "6xqP32N3MFs7",
        "outputId": "b3a1e235-4fe6-4676-e0a0-804af4f14d3a"
      },
      "source": [
        "testDataIndexForPrediction = 32\n",
        "\n",
        "print(\"Predicted Fare: \", predict_test[testDataIndexForPrediction], \"Actual Fare: \", test_Y.iloc[testDataIndexForPrediction])\n",
        "shap.plots.waterfall(shap_values[testDataIndexForPrediction], max_display=14)"
      ],
      "execution_count": 53,
      "outputs": [
        {
          "output_type": "stream",
          "name": "stdout",
          "text": [
            "Predicted Fare:  6.938511615392143 Actual Fare:  7.0\n"
          ]
        },
        {
          "output_type": "display_data",
          "data": {
            "image/png": "[encoded data removed]",
            "text/plain": [
              "<Figure size 576x504 with 3 Axes>"
            ]
          },
          "metadata": {}
        }
      ]
    }
  ]
}