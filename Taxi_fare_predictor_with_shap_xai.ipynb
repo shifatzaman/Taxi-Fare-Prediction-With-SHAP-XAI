{
  "nbformat": 4,
  "nbformat_minor": 0,
  "metadata": {
    "colab": {
      "name": "Taxi-fare-predictor-with-shap-xai.ipynb",
      "provenance": [],
      "collapsed_sections": [],
      "include_colab_link": true
    },
    "kernelspec": {
      "name": "python3",
      "display_name": "Python 3"
    },
    "language_info": {
      "name": "python"
    }
  },
  "cells": [
    {
      "cell_type": "markdown",
      "metadata": {
        "id": "view-in-github",
        "colab_type": "text"
      },
      "source": [
        "<a href=\"https://colab.research.google.com/github/shifatzaman/Taxi-Fare-Prediction-With-SHAP-XAI/blob/main/Taxi_fare_predictor_with_shap_xai.ipynb\" target=\"_parent\"><img src=\"https://colab.research.google.com/assets/colab-badge.svg\" alt=\"Open In Colab\"/></a>"
      ]
    },
    {
      "cell_type": "code",
      "metadata": {
        "id": "vYtetvRewZUa",
        "collapsed": true,
        "colab": {
          "base_uri": "https://localhost:8080/"
        },
        "outputId": "8732431e-5f65-43f9-d12a-a30f1bfa4c3c"
      },
      "source": [
        "!pip install category_encoders\n",
        "!pip install -U scikit-learn\n",
        "!pip install shap\n",
        " \n",
        "import pandas as pd\n",
        "import numpy as np\n",
        "import matplotlib.pyplot as plt\n",
        "%matplotlib inline\n",
        "import category_encoders as ce\n",
        "import shap\n",
        "from sklearn.linear_model import LinearRegression\n",
        "from sklearn.ensemble import  RandomForestRegressor\n",
        "from sklearn.model_selection import train_test_split\n",
        "from sklearn.metrics import mean_squared_error\n",
        "from sklearn.metrics import mean_absolute_error\n",
        "from sklearn.metrics import mean_absolute_percentage_error"
      ],
      "execution_count": null,
      "outputs": [
        {
          "output_type": "stream",
          "name": "stdout",
          "text": [
            "Requirement already satisfied: category_encoders in /usr/local/lib/python3.7/dist-packages (2.2.2)\n",
            "Requirement already satisfied: scikit-learn>=0.20.0 in /usr/local/lib/python3.7/dist-packages (from category_encoders) (0.24.2)\n",
            "Requirement already satisfied: numpy>=1.14.0 in /usr/local/lib/python3.7/dist-packages (from category_encoders) (1.19.5)\n",
            "Requirement already satisfied: patsy>=0.5.1 in /usr/local/lib/python3.7/dist-packages (from category_encoders) (0.5.1)\n",
            "Requirement already satisfied: scipy>=1.0.0 in /usr/local/lib/python3.7/dist-packages (from category_encoders) (1.4.1)\n",
            "Requirement already satisfied: pandas>=0.21.1 in /usr/local/lib/python3.7/dist-packages (from category_encoders) (1.1.5)\n",
            "Requirement already satisfied: statsmodels>=0.9.0 in /usr/local/lib/python3.7/dist-packages (from category_encoders) (0.10.2)\n",
            "Requirement already satisfied: python-dateutil>=2.7.3 in /usr/local/lib/python3.7/dist-packages (from pandas>=0.21.1->category_encoders) (2.8.2)\n",
            "Requirement already satisfied: pytz>=2017.2 in /usr/local/lib/python3.7/dist-packages (from pandas>=0.21.1->category_encoders) (2018.9)\n",
            "Requirement already satisfied: six in /usr/local/lib/python3.7/dist-packages (from patsy>=0.5.1->category_encoders) (1.15.0)\n",
            "Requirement already satisfied: threadpoolctl>=2.0.0 in /usr/local/lib/python3.7/dist-packages (from scikit-learn>=0.20.0->category_encoders) (2.2.0)\n",
            "Requirement already satisfied: joblib>=0.11 in /usr/local/lib/python3.7/dist-packages (from scikit-learn>=0.20.0->category_encoders) (1.0.1)\n",
            "Requirement already satisfied: scikit-learn in /usr/local/lib/python3.7/dist-packages (0.24.2)\n",
            "Requirement already satisfied: joblib>=0.11 in /usr/local/lib/python3.7/dist-packages (from scikit-learn) (1.0.1)\n",
            "Requirement already satisfied: threadpoolctl>=2.0.0 in /usr/local/lib/python3.7/dist-packages (from scikit-learn) (2.2.0)\n",
            "Requirement already satisfied: scipy>=0.19.1 in /usr/local/lib/python3.7/dist-packages (from scikit-learn) (1.4.1)\n",
            "Requirement already satisfied: numpy>=1.13.3 in /usr/local/lib/python3.7/dist-packages (from scikit-learn) (1.19.5)\n",
            "Requirement already satisfied: shap in /usr/local/lib/python3.7/dist-packages (0.39.0)\n",
            "Requirement already satisfied: scipy in /usr/local/lib/python3.7/dist-packages (from shap) (1.4.1)\n",
            "Requirement already satisfied: numpy in /usr/local/lib/python3.7/dist-packages (from shap) (1.19.5)\n",
            "Requirement already satisfied: tqdm>4.25.0 in /usr/local/lib/python3.7/dist-packages (from shap) (4.62.0)\n",
            "Requirement already satisfied: scikit-learn in /usr/local/lib/python3.7/dist-packages (from shap) (0.24.2)\n",
            "Requirement already satisfied: pandas in /usr/local/lib/python3.7/dist-packages (from shap) (1.1.5)\n",
            "Requirement already satisfied: slicer==0.0.7 in /usr/local/lib/python3.7/dist-packages (from shap) (0.0.7)\n",
            "Requirement already satisfied: cloudpickle in /usr/local/lib/python3.7/dist-packages (from shap) (1.3.0)\n",
            "Requirement already satisfied: numba in /usr/local/lib/python3.7/dist-packages (from shap) (0.51.2)\n",
            "Requirement already satisfied: setuptools in /usr/local/lib/python3.7/dist-packages (from numba->shap) (57.4.0)\n",
            "Requirement already satisfied: llvmlite<0.35,>=0.34.0.dev0 in /usr/local/lib/python3.7/dist-packages (from numba->shap) (0.34.0)\n",
            "Requirement already satisfied: python-dateutil>=2.7.3 in /usr/local/lib/python3.7/dist-packages (from pandas->shap) (2.8.2)\n",
            "Requirement already satisfied: pytz>=2017.2 in /usr/local/lib/python3.7/dist-packages (from pandas->shap) (2018.9)\n",
            "Requirement already satisfied: six>=1.5 in /usr/local/lib/python3.7/dist-packages (from python-dateutil>=2.7.3->pandas->shap) (1.15.0)\n",
            "Requirement already satisfied: joblib>=0.11 in /usr/local/lib/python3.7/dist-packages (from scikit-learn->shap) (1.0.1)\n",
            "Requirement already satisfied: threadpoolctl>=2.0.0 in /usr/local/lib/python3.7/dist-packages (from scikit-learn->shap) (2.2.0)\n"
          ]
        }
      ]
    },
    {
      "cell_type": "code",
      "metadata": {
        "id": "XZhJbuYd6tWm",
        "colab": {
          "base_uri": "https://localhost:8080/",
          "height": 204
        },
        "outputId": "a2911247-1071-42a7-fa56-852e79977db9"
      },
      "source": [
        "trainDataUrl = 'https://raw.githubusercontent.com/shifatzaman/Taxi-Fare-Prediction-With-SHAP-XAI/main/taxi-fare-train.csv'\n",
        "train_data = pd.read_csv(trainDataUrl)\n",
        "train_data.head()"
      ],
      "execution_count": null,
      "outputs": [
        {
          "output_type": "execute_result",
          "data": {
            "text/html": [
              "<div>\n",
              "<style scoped>\n",
              "    .dataframe tbody tr th:only-of-type {\n",
              "        vertical-align: middle;\n",
              "    }\n",
              "\n",
              "    .dataframe tbody tr th {\n",
              "        vertical-align: top;\n",
              "    }\n",
              "\n",
              "    .dataframe thead th {\n",
              "        text-align: right;\n",
              "    }\n",
              "</style>\n",
              "<table border=\"1\" class=\"dataframe\">\n",
              "  <thead>\n",
              "    <tr style=\"text-align: right;\">\n",
              "      <th></th>\n",
              "      <th>vendor_id</th>\n",
              "      <th>rate_code</th>\n",
              "      <th>passenger_count</th>\n",
              "      <th>trip_time_in_secs</th>\n",
              "      <th>trip_distance</th>\n",
              "      <th>payment_type</th>\n",
              "      <th>fare_amount</th>\n",
              "    </tr>\n",
              "  </thead>\n",
              "  <tbody>\n",
              "    <tr>\n",
              "      <th>0</th>\n",
              "      <td>CMT</td>\n",
              "      <td>1</td>\n",
              "      <td>1</td>\n",
              "      <td>1271</td>\n",
              "      <td>3.8</td>\n",
              "      <td>CRD</td>\n",
              "      <td>17.5</td>\n",
              "    </tr>\n",
              "    <tr>\n",
              "      <th>1</th>\n",
              "      <td>CMT</td>\n",
              "      <td>1</td>\n",
              "      <td>1</td>\n",
              "      <td>474</td>\n",
              "      <td>1.5</td>\n",
              "      <td>CRD</td>\n",
              "      <td>8.0</td>\n",
              "    </tr>\n",
              "    <tr>\n",
              "      <th>2</th>\n",
              "      <td>CMT</td>\n",
              "      <td>1</td>\n",
              "      <td>1</td>\n",
              "      <td>637</td>\n",
              "      <td>1.4</td>\n",
              "      <td>CRD</td>\n",
              "      <td>8.5</td>\n",
              "    </tr>\n",
              "    <tr>\n",
              "      <th>3</th>\n",
              "      <td>CMT</td>\n",
              "      <td>1</td>\n",
              "      <td>1</td>\n",
              "      <td>181</td>\n",
              "      <td>0.6</td>\n",
              "      <td>CSH</td>\n",
              "      <td>4.5</td>\n",
              "    </tr>\n",
              "    <tr>\n",
              "      <th>4</th>\n",
              "      <td>CMT</td>\n",
              "      <td>1</td>\n",
              "      <td>1</td>\n",
              "      <td>661</td>\n",
              "      <td>1.1</td>\n",
              "      <td>CRD</td>\n",
              "      <td>8.5</td>\n",
              "    </tr>\n",
              "  </tbody>\n",
              "</table>\n",
              "</div>"
            ],
            "text/plain": [
              "  vendor_id  rate_code  ...  payment_type  fare_amount\n",
              "0       CMT          1  ...           CRD         17.5\n",
              "1       CMT          1  ...           CRD          8.0\n",
              "2       CMT          1  ...           CRD          8.5\n",
              "3       CMT          1  ...           CSH          4.5\n",
              "4       CMT          1  ...           CRD          8.5\n",
              "\n",
              "[5 rows x 7 columns]"
            ]
          },
          "metadata": {},
          "execution_count": 29
        }
      ]
    },
    {
      "cell_type": "code",
      "metadata": {
        "id": "ojJFY6VE8XRD",
        "colab": {
          "base_uri": "https://localhost:8080/",
          "height": 204
        },
        "outputId": "0c03cd24-3572-41ec-d1dc-f5429d7c965c"
      },
      "source": [
        "testDataUrl = 'https://raw.githubusercontent.com/shifatzaman/Taxi-Fare-Prediction-With-SHAP-XAI/main/taxi-fare-test.csv'\n",
        "test_data = pd.read_csv(testDataUrl)\n",
        "test_data.head()"
      ],
      "execution_count": null,
      "outputs": [
        {
          "output_type": "execute_result",
          "data": {
            "text/html": [
              "<div>\n",
              "<style scoped>\n",
              "    .dataframe tbody tr th:only-of-type {\n",
              "        vertical-align: middle;\n",
              "    }\n",
              "\n",
              "    .dataframe tbody tr th {\n",
              "        vertical-align: top;\n",
              "    }\n",
              "\n",
              "    .dataframe thead th {\n",
              "        text-align: right;\n",
              "    }\n",
              "</style>\n",
              "<table border=\"1\" class=\"dataframe\">\n",
              "  <thead>\n",
              "    <tr style=\"text-align: right;\">\n",
              "      <th></th>\n",
              "      <th>vendor_id</th>\n",
              "      <th>rate_code</th>\n",
              "      <th>passenger_count</th>\n",
              "      <th>trip_time_in_secs</th>\n",
              "      <th>trip_distance</th>\n",
              "      <th>payment_type</th>\n",
              "      <th>fare_amount</th>\n",
              "    </tr>\n",
              "  </thead>\n",
              "  <tbody>\n",
              "    <tr>\n",
              "      <th>0</th>\n",
              "      <td>VTS</td>\n",
              "      <td>1</td>\n",
              "      <td>1</td>\n",
              "      <td>1140</td>\n",
              "      <td>3.75</td>\n",
              "      <td>CRD</td>\n",
              "      <td>15.5</td>\n",
              "    </tr>\n",
              "    <tr>\n",
              "      <th>1</th>\n",
              "      <td>VTS</td>\n",
              "      <td>1</td>\n",
              "      <td>1</td>\n",
              "      <td>480</td>\n",
              "      <td>2.72</td>\n",
              "      <td>CRD</td>\n",
              "      <td>10.0</td>\n",
              "    </tr>\n",
              "    <tr>\n",
              "      <th>2</th>\n",
              "      <td>VTS</td>\n",
              "      <td>1</td>\n",
              "      <td>1</td>\n",
              "      <td>1680</td>\n",
              "      <td>7.80</td>\n",
              "      <td>CSH</td>\n",
              "      <td>26.5</td>\n",
              "    </tr>\n",
              "    <tr>\n",
              "      <th>3</th>\n",
              "      <td>VTS</td>\n",
              "      <td>1</td>\n",
              "      <td>1</td>\n",
              "      <td>600</td>\n",
              "      <td>4.73</td>\n",
              "      <td>CSH</td>\n",
              "      <td>14.5</td>\n",
              "    </tr>\n",
              "    <tr>\n",
              "      <th>4</th>\n",
              "      <td>VTS</td>\n",
              "      <td>1</td>\n",
              "      <td>1</td>\n",
              "      <td>600</td>\n",
              "      <td>2.18</td>\n",
              "      <td>CRD</td>\n",
              "      <td>9.5</td>\n",
              "    </tr>\n",
              "  </tbody>\n",
              "</table>\n",
              "</div>"
            ],
            "text/plain": [
              "  vendor_id  rate_code  ...  payment_type  fare_amount\n",
              "0       VTS          1  ...           CRD         15.5\n",
              "1       VTS          1  ...           CRD         10.0\n",
              "2       VTS          1  ...           CSH         26.5\n",
              "3       VTS          1  ...           CSH         14.5\n",
              "4       VTS          1  ...           CRD          9.5\n",
              "\n",
              "[5 rows x 7 columns]"
            ]
          },
          "metadata": {},
          "execution_count": 30
        }
      ]
    },
    {
      "cell_type": "code",
      "metadata": {
        "id": "DhkShETd8uoL",
        "colab": {
          "base_uri": "https://localhost:8080/"
        },
        "outputId": "f82e349a-66e8-4cb0-a606-e28f940a7dcd"
      },
      "source": [
        "train_data.isna().sum() "
      ],
      "execution_count": null,
      "outputs": [
        {
          "output_type": "execute_result",
          "data": {
            "text/plain": [
              "vendor_id            0\n",
              "rate_code            0\n",
              "passenger_count      0\n",
              "trip_time_in_secs    0\n",
              "trip_distance        0\n",
              "payment_type         0\n",
              "fare_amount          0\n",
              "dtype: int64"
            ]
          },
          "metadata": {},
          "execution_count": 31
        }
      ]
    },
    {
      "cell_type": "code",
      "metadata": {
        "id": "lN3Qwngk_0tZ",
        "colab": {
          "base_uri": "https://localhost:8080/"
        },
        "outputId": "1e76dd1a-a064-4211-a8cb-ae726b181114"
      },
      "source": [
        "train_data.dtypes"
      ],
      "execution_count": null,
      "outputs": [
        {
          "output_type": "execute_result",
          "data": {
            "text/plain": [
              "vendor_id             object\n",
              "rate_code              int64\n",
              "passenger_count        int64\n",
              "trip_time_in_secs      int64\n",
              "trip_distance        float64\n",
              "payment_type          object\n",
              "fare_amount          float64\n",
              "dtype: object"
            ]
          },
          "metadata": {},
          "execution_count": 32
        }
      ]
    },
    {
      "cell_type": "code",
      "metadata": {
        "id": "B4lY6fbG_qmB"
      },
      "source": [
        "OHE = ce.OneHotEncoder(cols=['vendor_id',\n",
        "                             'payment_type'],use_cat_names=True)"
      ],
      "execution_count": null,
      "outputs": []
    },
    {
      "cell_type": "code",
      "metadata": {
        "colab": {
          "base_uri": "https://localhost:8080/"
        },
        "id": "qHlQxAs6I1Pr",
        "outputId": "6f515b56-70ef-4e0b-9e39-3643d0a1266a"
      },
      "source": [
        "# encode the categorical variables in train data\n",
        "train_data = OHE.fit_transform(train_data)"
      ],
      "execution_count": null,
      "outputs": [
        {
          "output_type": "stream",
          "name": "stderr",
          "text": [
            "is_categorical is deprecated and will be removed in a future version.  Use is_categorical_dtype instead\n"
          ]
        }
      ]
    },
    {
      "cell_type": "code",
      "metadata": {
        "id": "coDjt04-C5U6"
      },
      "source": [
        "train_X = train_data.drop(columns=['fare_amount'])\n",
        "train_Y = train_data['fare_amount']"
      ],
      "execution_count": null,
      "outputs": []
    },
    {
      "cell_type": "code",
      "metadata": {
        "colab": {
          "base_uri": "https://localhost:8080/"
        },
        "id": "7CcJS5rpJHla",
        "outputId": "5d4236ad-d0bc-46dc-b911-9922df8aa6a7"
      },
      "source": [
        "test_data.isna().sum() "
      ],
      "execution_count": null,
      "outputs": [
        {
          "output_type": "execute_result",
          "data": {
            "text/plain": [
              "vendor_id            0\n",
              "rate_code            0\n",
              "passenger_count      0\n",
              "trip_time_in_secs    0\n",
              "trip_distance        0\n",
              "payment_type         0\n",
              "fare_amount          0\n",
              "dtype: int64"
            ]
          },
          "metadata": {},
          "execution_count": 36
        }
      ]
    },
    {
      "cell_type": "code",
      "metadata": {
        "colab": {
          "base_uri": "https://localhost:8080/"
        },
        "id": "QlEmc_KsJN0_",
        "outputId": "2b5c9af9-824e-4b53-f1b4-dffe1a9109be"
      },
      "source": [
        "test_data.dtypes"
      ],
      "execution_count": null,
      "outputs": [
        {
          "output_type": "execute_result",
          "data": {
            "text/plain": [
              "vendor_id             object\n",
              "rate_code              int64\n",
              "passenger_count        int64\n",
              "trip_time_in_secs      int64\n",
              "trip_distance        float64\n",
              "payment_type          object\n",
              "fare_amount          float64\n",
              "dtype: object"
            ]
          },
          "metadata": {},
          "execution_count": 37
        }
      ]
    },
    {
      "cell_type": "code",
      "metadata": {
        "colab": {
          "base_uri": "https://localhost:8080/"
        },
        "id": "oA__szWgJbuM",
        "outputId": "63aa4a9b-3264-4660-bbe5-0d33cc05052d"
      },
      "source": [
        "# encode the categorical variables in test data\n",
        "test_data = OHE.fit_transform(test_data)"
      ],
      "execution_count": null,
      "outputs": [
        {
          "output_type": "stream",
          "name": "stderr",
          "text": [
            "is_categorical is deprecated and will be removed in a future version.  Use is_categorical_dtype instead\n"
          ]
        }
      ]
    },
    {
      "cell_type": "code",
      "metadata": {
        "id": "mOypnxkoJj0v"
      },
      "source": [
        "test_X = test_data.drop(columns=['fare_amount'])\n",
        "test_Y = test_data['fare_amount']"
      ],
      "execution_count": null,
      "outputs": []
    },
    {
      "cell_type": "code",
      "metadata": {
        "id": "ZyVNmsaxDhm2"
      },
      "source": [
        "model_LR = LinearRegression()"
      ],
      "execution_count": null,
      "outputs": []
    },
    {
      "cell_type": "code",
      "metadata": {
        "colab": {
          "base_uri": "https://localhost:8080/"
        },
        "id": "FK514-5pJrZ8",
        "outputId": "187caacb-8bcb-45df-d720-e59018621fd3"
      },
      "source": [
        "# fit the model with the training data\n",
        "model_LR.fit(train_X, train_Y)"
      ],
      "execution_count": null,
      "outputs": [
        {
          "output_type": "execute_result",
          "data": {
            "text/plain": [
              "LinearRegression()"
            ]
          },
          "metadata": {},
          "execution_count": 41
        }
      ]
    },
    {
      "cell_type": "code",
      "metadata": {
        "colab": {
          "base_uri": "https://localhost:8080/"
        },
        "id": "YodHIV9hGLkB",
        "outputId": "97bccf66-b51a-47dd-cea6-7fe5fb66d397"
      },
      "source": [
        "print(\"Score on training dataset- \", model_LR.score(train_X, train_Y))"
      ],
      "execution_count": null,
      "outputs": [
        {
          "output_type": "stream",
          "name": "stdout",
          "text": [
            "Score on training dataset-  0.8751264185214683\n"
          ]
        }
      ]
    },
    {
      "cell_type": "code",
      "metadata": {
        "colab": {
          "base_uri": "https://localhost:8080/"
        },
        "id": "aaevGa5kGN26",
        "outputId": "0d3ab08c-1655-493d-cf49-86c3f48abd38"
      },
      "source": [
        "print(\"Score on test dataset- \", model_LR.score(test_X, test_Y))"
      ],
      "execution_count": null,
      "outputs": [
        {
          "output_type": "stream",
          "name": "stdout",
          "text": [
            "Score on test dataset-  0.802221456889139\n"
          ]
        }
      ]
    },
    {
      "cell_type": "code",
      "metadata": {
        "id": "1iaFl6-2YikU"
      },
      "source": [
        "predict_train = model_LR.predict(train_X)"
      ],
      "execution_count": null,
      "outputs": []
    },
    {
      "cell_type": "code",
      "metadata": {
        "colab": {
          "base_uri": "https://localhost:8080/"
        },
        "id": "yQxVIg4ybFHf",
        "outputId": "0bc7d380-d8b4-493c-eb81-3b3b15143687"
      },
      "source": [
        "print('Mean absolute error on train data: ', mean_absolute_error(train_Y, predict_train))"
      ],
      "execution_count": null,
      "outputs": [
        {
          "output_type": "stream",
          "name": "stdout",
          "text": [
            "Mean absolute error on train data:  0.8483768403392281\n"
          ]
        }
      ]
    },
    {
      "cell_type": "code",
      "metadata": {
        "colab": {
          "base_uri": "https://localhost:8080/"
        },
        "id": "BL_EO5A5d7it",
        "outputId": "5488959a-1c9a-4e16-c292-4c5ebe1627dd"
      },
      "source": [
        "print('Mean absolute error percentage on train data: ', mean_absolute_percentage_error(train_Y, predict_train) * 100)"
      ],
      "execution_count": null,
      "outputs": [
        {
          "output_type": "stream",
          "name": "stdout",
          "text": [
            "Mean absolute error percentage on train data:  7.358908309404945\n"
          ]
        }
      ]
    },
    {
      "cell_type": "code",
      "metadata": {
        "id": "D5GWlWW1H1Tn"
      },
      "source": [
        "predict_test = model_LR.predict(test_X)"
      ],
      "execution_count": null,
      "outputs": []
    },
    {
      "cell_type": "code",
      "metadata": {
        "colab": {
          "base_uri": "https://localhost:8080/"
        },
        "id": "vqAjSmDqIHfV",
        "outputId": "81ac7595-1cb4-46a4-fff3-83e38f8f6da7"
      },
      "source": [
        "print('Mean absolute error on test data: ', mean_absolute_error(test_Y, predict_test))"
      ],
      "execution_count": null,
      "outputs": [
        {
          "output_type": "stream",
          "name": "stdout",
          "text": [
            "Mean absolute error on test data:  0.8732104119874754\n"
          ]
        }
      ]
    },
    {
      "cell_type": "code",
      "metadata": {
        "colab": {
          "base_uri": "https://localhost:8080/"
        },
        "id": "LlvjTzETIU2g",
        "outputId": "c2e24871-972a-4a62-c917-073dad3284ae"
      },
      "source": [
        "print('Mean absolute error percentage on test data: ', mean_absolute_percentage_error(test_Y, predict_test) * 100)"
      ],
      "execution_count": null,
      "outputs": [
        {
          "output_type": "stream",
          "name": "stdout",
          "text": [
            "Mean absolute error percentage on test data:  7.7218075216112885\n"
          ]
        }
      ]
    },
    {
      "cell_type": "code",
      "metadata": {
        "id": "1nYFuJpdLxdo",
        "colab": {
          "base_uri": "https://localhost:8080/"
        },
        "outputId": "a22554eb-4cc2-40aa-a34a-5771d9c856b2"
      },
      "source": [
        "print(\"Model coefficients :\\n\")\n",
        "\n",
        "for i in range(train_X.shape[1]):\n",
        "    print(train_X.columns[i], \"=\", model_LR.coef_[i].round(4))"
      ],
      "execution_count": null,
      "outputs": [
        {
          "output_type": "stream",
          "name": "stdout",
          "text": [
            "Model coefficients :\n",
            "\n",
            "vendor_id_CMT = -0.0023\n",
            "vendor_id_VTS = 0.0023\n",
            "rate_code = 9.2646\n",
            "passenger_count = -0.0072\n",
            "trip_time_in_secs = 0.0065\n",
            "trip_distance = 1.5728\n",
            "payment_type_CRD = 1.5885\n",
            "payment_type_CSH = 1.3651\n",
            "payment_type_NOC = -3.2031\n",
            "payment_type_DIS = -2.0214\n",
            "payment_type_UNK = 2.2709\n"
          ]
        }
      ]
    },
    {
      "cell_type": "code",
      "metadata": {
        "colab": {
          "base_uri": "https://localhost:8080/"
        },
        "id": "Y1xzlA4EKZ20",
        "outputId": "bd0269d2-5849-4126-9e2d-5ce91206d834"
      },
      "source": [
        "rowNumberToTest = 20\n",
        "\n",
        "testDataIndexForPrediction = rowNumberToTest -2\n",
        "\n",
        "print(\"Predicted Fare: \", predict_test[testDataIndexForPrediction].round(2))\n",
        "print(\"Actual Fare: \", test_Y.iloc[testDataIndexForPrediction])"
      ],
      "execution_count": null,
      "outputs": [
        {
          "output_type": "stream",
          "name": "stdout",
          "text": [
            "Predicted Fare:  8.99\n",
            "Actual Fare:  8.5\n"
          ]
        }
      ]
    },
    {
      "cell_type": "code",
      "metadata": {
        "id": "9gbNKo8bJMei"
      },
      "source": [
        "X100 = shap.utils.sample(test_X, 100)"
      ],
      "execution_count": null,
      "outputs": []
    },
    {
      "cell_type": "code",
      "metadata": {
        "id": "8R6VqvK3KzIb"
      },
      "source": [
        "explainer = shap.Explainer(model_LR.predict, X100)\n",
        "shap_values = explainer(test_X.head(100))"
      ],
      "execution_count": null,
      "outputs": []
    },
    {
      "cell_type": "code",
      "metadata": {
        "colab": {
          "base_uri": "https://localhost:8080/",
          "height": 386
        },
        "id": "q2UHjwE3K_tV",
        "outputId": "662a7555-5839-4a6f-a4e6-31be2a43989c"
      },
      "source": [
        "shap.summary_plot(shap_values, test_X, feature_names=test_X.columns, plot_type=\"bar\")"
      ],
      "execution_count": null,
      "outputs": [
        {
          "output_type": "display_data",
          "data": {
            "image/png": "[encoded data removed]",
            "text/plain": [
              "<Figure size 576x424.8 with 1 Axes>"
            ]
          },
          "metadata": {
            "needs_background": "light"
          }
        }
      ]
    },
    {
      "cell_type": "code",
      "metadata": {
        "id": "_nJTE-ptNbAJ",
        "colab": {
          "base_uri": "https://localhost:8080/",
          "height": 297
        },
        "outputId": "d25475f9-2068-48be-8a88-65319014af20"
      },
      "source": [
        "shap.plots.partial_dependence(\n",
        "    \"trip_distance\", model_LR.predict, X100, ice=False,\n",
        "    model_expected_value=True, feature_expected_value=True\n",
        ")"
      ],
      "execution_count": null,
      "outputs": [
        {
          "output_type": "display_data",
          "data": {
            "image/png": "[encoded data removed]",
            "text/plain": [
              "<Figure size 432x288 with 4 Axes>"
            ]
          },
          "metadata": {
            "needs_background": "light"
          }
        }
      ]
    },
    {
      "cell_type": "code",
      "metadata": {
        "id": "dewHhAVVO40v",
        "colab": {
          "base_uri": "https://localhost:8080/",
          "height": 297
        },
        "outputId": "64c7e782-8118-44d2-80b0-78a3d60c859e"
      },
      "source": [
        "shap.partial_dependence_plot(\n",
        "    \"trip_distance\", model_LR.predict, X100, model_expected_value=True,\n",
        "    feature_expected_value=True, ice=False,\n",
        "    shap_values=shap_values[testDataIndexForPrediction:testDataIndexForPrediction+1,:]\n",
        ")"
      ],
      "execution_count": null,
      "outputs": [
        {
          "output_type": "display_data",
          "data": {
            "image/png": "[encoded data removed]",
            "text/plain": [
              "<Figure size 432x288 with 4 Axes>"
            ]
          },
          "metadata": {
            "needs_background": "light"
          }
        }
      ]
    },
    {
      "cell_type": "code",
      "metadata": {
        "id": "g-AXVV9YrOPS",
        "colab": {
          "base_uri": "https://localhost:8080/",
          "height": 337
        },
        "outputId": "d52ac1a1-6797-4332-db1a-05972c91c87c"
      },
      "source": [
        "shap.plots.scatter(shap_values[:,\"trip_distance\"])"
      ],
      "execution_count": null,
      "outputs": [
        {
          "output_type": "display_data",
          "data": {
            "image/png": "[encoded data removed]",
            "text/plain": [
              "<Figure size 432x360 with 2 Axes>"
            ]
          },
          "metadata": {
            "needs_background": "light"
          }
        }
      ]
    },
    {
      "cell_type": "code",
      "metadata": {
        "id": "ciex2XvpN52n",
        "colab": {
          "base_uri": "https://localhost:8080/",
          "height": 297
        },
        "outputId": "a51bee6a-fcc3-4995-abea-8430f0752cb2"
      },
      "source": [
        "shap.plots.partial_dependence(\n",
        "    \"trip_time_in_secs\", model_LR.predict, X100, ice=False,\n",
        "    model_expected_value=True, feature_expected_value=True\n",
        ")"
      ],
      "execution_count": null,
      "outputs": [
        {
          "output_type": "display_data",
          "data": {
            "image/png": "[encoded data removed]",
            "text/plain": [
              "<Figure size 432x288 with 4 Axes>"
            ]
          },
          "metadata": {
            "needs_background": "light"
          }
        }
      ]
    },
    {
      "cell_type": "code",
      "metadata": {
        "id": "5YO_i4NsPf7n",
        "colab": {
          "base_uri": "https://localhost:8080/",
          "height": 297
        },
        "outputId": "ed4f436a-8e21-4347-d88b-9e90b18abb42"
      },
      "source": [
        "shap.partial_dependence_plot(\n",
        "    \"trip_time_in_secs\", model_LR.predict, X100, model_expected_value=True,\n",
        "    feature_expected_value=True, ice=False,\n",
        "    shap_values=shap_values[testDataIndexForPrediction:testDataIndexForPrediction+1,:]\n",
        ")"
      ],
      "execution_count": null,
      "outputs": [
        {
          "output_type": "display_data",
          "data": {
            "image/png": "[encoded data removed]",
            "text/plain": [
              "<Figure size 432x288 with 4 Axes>"
            ]
          },
          "metadata": {
            "needs_background": "light"
          }
        }
      ]
    },
    {
      "cell_type": "code",
      "metadata": {
        "id": "O3k6Av0aPt1-",
        "colab": {
          "base_uri": "https://localhost:8080/",
          "height": 337
        },
        "outputId": "c1933e17-2e86-4d25-e0f9-728f48742690"
      },
      "source": [
        "shap.plots.scatter(shap_values[:,\"trip_time_in_secs\"])"
      ],
      "execution_count": null,
      "outputs": [
        {
          "output_type": "display_data",
          "data": {
            "image/png": "[encoded data removed]",
            "text/plain": [
              "<Figure size 432x360 with 2 Axes>"
            ]
          },
          "metadata": {
            "needs_background": "light"
          }
        }
      ]
    },
    {
      "cell_type": "code",
      "metadata": {
        "id": "6xqP32N3MFs7",
        "colab": {
          "base_uri": "https://localhost:8080/",
          "height": 471
        },
        "outputId": "73cf1b59-9293-4bef-dfea-6ddea06d5b3a"
      },
      "source": [
        "\n",
        "shap.plots.waterfall(shap_values[testDataIndexForPrediction], max_display=14)"
      ],
      "execution_count": null,
      "outputs": [
        {
          "output_type": "display_data",
          "data": {
            "image/png": "[encoded data removed]",
            "text/plain": [
              "<Figure size 576x504 with 3 Axes>"
            ]
          },
          "metadata": {}
        }
      ]
    },
    {
      "cell_type": "code",
      "metadata": {
        "id": "hEvOoFouutLm"
      },
      "source": [
        ""
      ],
      "execution_count": null,
      "outputs": []
    }
  ]
}