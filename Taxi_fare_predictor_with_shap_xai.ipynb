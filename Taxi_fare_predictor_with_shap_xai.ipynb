{
  "nbformat": 4,
  "nbformat_minor": 0,
  "metadata": {
    "colab": {
      "name": "Taxi-fare-predictor-with-shap-xai.ipynb",
      "provenance": [],
      "collapsed_sections": [],
      "include_colab_link": true
    },
    "kernelspec": {
      "name": "python3",
      "display_name": "Python 3"
    },
    "language_info": {
      "name": "python"
    }
  },
  "cells": [
    {
      "cell_type": "markdown",
      "metadata": {
        "id": "view-in-github",
        "colab_type": "text"
      },
      "source": [
        "<a href=\"https://colab.research.google.com/github/shifatzaman/Taxi-Fare-Prediction-With-SHAP-XAI/blob/main/Taxi_fare_predictor_with_shap_xai.ipynb\" target=\"_parent\"><img src=\"https://colab.research.google.com/assets/colab-badge.svg\" alt=\"Open In Colab\"/></a>"
      ]
    },
    {
      "cell_type": "markdown",
      "metadata": {
        "id": "F5Jo8oRPWXJG"
      },
      "source": [
        "**Install necessary libraries**"
      ]
    },
    {
      "cell_type": "code",
      "metadata": {
        "id": "vYtetvRewZUa",
        "collapsed": true
      },
      "source": [
        "!pip install category_encoders\n",
        "!pip install -U scikit-learn\n",
        "!pip install shap\n",
        " \n",
        "import pandas as pd\n",
        "import numpy as np\n",
        "import matplotlib.pyplot as plt\n",
        "%matplotlib inline\n",
        "import category_encoders as ce\n",
        "import shap\n",
        "from sklearn.linear_model import LinearRegression\n",
        "from sklearn.ensemble import  RandomForestRegressor\n",
        "from sklearn.model_selection import train_test_split\n",
        "from sklearn.metrics import mean_squared_error\n",
        "from sklearn.metrics import mean_absolute_error\n",
        "from sklearn.metrics import mean_absolute_percentage_error\n",
        "from sklearn.preprocessing import OrdinalEncoder"
      ],
      "execution_count": null,
      "outputs": []
    },
    {
      "cell_type": "markdown",
      "metadata": {
        "id": "540QSTHAWQTj"
      },
      "source": [
        "**Loading training data**"
      ]
    },
    {
      "cell_type": "code",
      "metadata": {
        "id": "XZhJbuYd6tWm",
        "colab": {
          "base_uri": "https://localhost:8080/",
          "height": 203
        },
        "outputId": "1a0c2bfa-412c-4810-8006-251e489bb2d7"
      },
      "source": [
        "trainDataUrl = 'https://raw.githubusercontent.com/shifatzaman/Taxi-Fare-Prediction-With-SHAP-XAI/main/taxi-fare-train.csv'\n",
        "train_data = pd.read_csv(trainDataUrl)\n",
        "train_data.head()"
      ],
      "execution_count": 2,
      "outputs": [
        {
          "output_type": "execute_result",
          "data": {
            "text/html": [
              "<div>\n",
              "<style scoped>\n",
              "    .dataframe tbody tr th:only-of-type {\n",
              "        vertical-align: middle;\n",
              "    }\n",
              "\n",
              "    .dataframe tbody tr th {\n",
              "        vertical-align: top;\n",
              "    }\n",
              "\n",
              "    .dataframe thead th {\n",
              "        text-align: right;\n",
              "    }\n",
              "</style>\n",
              "<table border=\"1\" class=\"dataframe\">\n",
              "  <thead>\n",
              "    <tr style=\"text-align: right;\">\n",
              "      <th></th>\n",
              "      <th>vendor_id</th>\n",
              "      <th>rate_code</th>\n",
              "      <th>passenger_count</th>\n",
              "      <th>trip_time_in_secs</th>\n",
              "      <th>trip_distance</th>\n",
              "      <th>payment_type</th>\n",
              "      <th>fare_amount</th>\n",
              "    </tr>\n",
              "  </thead>\n",
              "  <tbody>\n",
              "    <tr>\n",
              "      <th>0</th>\n",
              "      <td>CMT</td>\n",
              "      <td>1</td>\n",
              "      <td>1</td>\n",
              "      <td>1271</td>\n",
              "      <td>3.8</td>\n",
              "      <td>CRD</td>\n",
              "      <td>17.5</td>\n",
              "    </tr>\n",
              "    <tr>\n",
              "      <th>1</th>\n",
              "      <td>CMT</td>\n",
              "      <td>1</td>\n",
              "      <td>1</td>\n",
              "      <td>474</td>\n",
              "      <td>1.5</td>\n",
              "      <td>CRD</td>\n",
              "      <td>8.0</td>\n",
              "    </tr>\n",
              "    <tr>\n",
              "      <th>2</th>\n",
              "      <td>CMT</td>\n",
              "      <td>1</td>\n",
              "      <td>1</td>\n",
              "      <td>637</td>\n",
              "      <td>1.4</td>\n",
              "      <td>CRD</td>\n",
              "      <td>8.5</td>\n",
              "    </tr>\n",
              "    <tr>\n",
              "      <th>3</th>\n",
              "      <td>CMT</td>\n",
              "      <td>1</td>\n",
              "      <td>1</td>\n",
              "      <td>181</td>\n",
              "      <td>0.6</td>\n",
              "      <td>CSH</td>\n",
              "      <td>4.5</td>\n",
              "    </tr>\n",
              "    <tr>\n",
              "      <th>4</th>\n",
              "      <td>CMT</td>\n",
              "      <td>1</td>\n",
              "      <td>1</td>\n",
              "      <td>661</td>\n",
              "      <td>1.1</td>\n",
              "      <td>CRD</td>\n",
              "      <td>8.5</td>\n",
              "    </tr>\n",
              "  </tbody>\n",
              "</table>\n",
              "</div>"
            ],
            "text/plain": [
              "  vendor_id  rate_code  ...  payment_type  fare_amount\n",
              "0       CMT          1  ...           CRD         17.5\n",
              "1       CMT          1  ...           CRD          8.0\n",
              "2       CMT          1  ...           CRD          8.5\n",
              "3       CMT          1  ...           CSH          4.5\n",
              "4       CMT          1  ...           CRD          8.5\n",
              "\n",
              "[5 rows x 7 columns]"
            ]
          },
          "metadata": {},
          "execution_count": 2
        }
      ]
    },
    {
      "cell_type": "markdown",
      "metadata": {
        "id": "z7XrWioQWhnV"
      },
      "source": [
        "**Loading test data**"
      ]
    },
    {
      "cell_type": "code",
      "metadata": {
        "id": "ojJFY6VE8XRD",
        "colab": {
          "base_uri": "https://localhost:8080/",
          "height": 203
        },
        "outputId": "de044da2-0b24-451c-bcea-89d7ddcfb769"
      },
      "source": [
        "testDataUrl = 'https://raw.githubusercontent.com/shifatzaman/Taxi-Fare-Prediction-With-SHAP-XAI/main/taxi-fare-test.csv'\n",
        "test_data = pd.read_csv(testDataUrl)\n",
        "test_data.head()"
      ],
      "execution_count": 3,
      "outputs": [
        {
          "output_type": "execute_result",
          "data": {
            "text/html": [
              "<div>\n",
              "<style scoped>\n",
              "    .dataframe tbody tr th:only-of-type {\n",
              "        vertical-align: middle;\n",
              "    }\n",
              "\n",
              "    .dataframe tbody tr th {\n",
              "        vertical-align: top;\n",
              "    }\n",
              "\n",
              "    .dataframe thead th {\n",
              "        text-align: right;\n",
              "    }\n",
              "</style>\n",
              "<table border=\"1\" class=\"dataframe\">\n",
              "  <thead>\n",
              "    <tr style=\"text-align: right;\">\n",
              "      <th></th>\n",
              "      <th>vendor_id</th>\n",
              "      <th>rate_code</th>\n",
              "      <th>passenger_count</th>\n",
              "      <th>trip_time_in_secs</th>\n",
              "      <th>trip_distance</th>\n",
              "      <th>payment_type</th>\n",
              "      <th>fare_amount</th>\n",
              "    </tr>\n",
              "  </thead>\n",
              "  <tbody>\n",
              "    <tr>\n",
              "      <th>0</th>\n",
              "      <td>VTS</td>\n",
              "      <td>1</td>\n",
              "      <td>1</td>\n",
              "      <td>1140</td>\n",
              "      <td>3.75</td>\n",
              "      <td>CRD</td>\n",
              "      <td>15.5</td>\n",
              "    </tr>\n",
              "    <tr>\n",
              "      <th>1</th>\n",
              "      <td>VTS</td>\n",
              "      <td>1</td>\n",
              "      <td>1</td>\n",
              "      <td>480</td>\n",
              "      <td>2.72</td>\n",
              "      <td>CRD</td>\n",
              "      <td>10.0</td>\n",
              "    </tr>\n",
              "    <tr>\n",
              "      <th>2</th>\n",
              "      <td>VTS</td>\n",
              "      <td>1</td>\n",
              "      <td>1</td>\n",
              "      <td>1680</td>\n",
              "      <td>7.80</td>\n",
              "      <td>CSH</td>\n",
              "      <td>26.5</td>\n",
              "    </tr>\n",
              "    <tr>\n",
              "      <th>3</th>\n",
              "      <td>VTS</td>\n",
              "      <td>1</td>\n",
              "      <td>1</td>\n",
              "      <td>600</td>\n",
              "      <td>4.73</td>\n",
              "      <td>CSH</td>\n",
              "      <td>14.5</td>\n",
              "    </tr>\n",
              "    <tr>\n",
              "      <th>4</th>\n",
              "      <td>VTS</td>\n",
              "      <td>1</td>\n",
              "      <td>1</td>\n",
              "      <td>600</td>\n",
              "      <td>2.18</td>\n",
              "      <td>CRD</td>\n",
              "      <td>9.5</td>\n",
              "    </tr>\n",
              "  </tbody>\n",
              "</table>\n",
              "</div>"
            ],
            "text/plain": [
              "  vendor_id  rate_code  ...  payment_type  fare_amount\n",
              "0       VTS          1  ...           CRD         15.5\n",
              "1       VTS          1  ...           CRD         10.0\n",
              "2       VTS          1  ...           CSH         26.5\n",
              "3       VTS          1  ...           CSH         14.5\n",
              "4       VTS          1  ...           CRD          9.5\n",
              "\n",
              "[5 rows x 7 columns]"
            ]
          },
          "metadata": {},
          "execution_count": 3
        }
      ]
    },
    {
      "cell_type": "markdown",
      "metadata": {
        "id": "gg02gFmqWoj_"
      },
      "source": [
        "**Check null values in training dataset**\n",
        "\n",
        "\n",
        "> At first, we will check if there's any null value in the training dataset. If there is any, we will have to handle that.\n",
        "\n"
      ]
    },
    {
      "cell_type": "code",
      "metadata": {
        "id": "DhkShETd8uoL",
        "colab": {
          "base_uri": "https://localhost:8080/"
        },
        "outputId": "1f1a5fff-4bf4-449c-a340-55fbffe92e39"
      },
      "source": [
        "train_data.isna().sum() "
      ],
      "execution_count": 4,
      "outputs": [
        {
          "output_type": "execute_result",
          "data": {
            "text/plain": [
              "vendor_id            0\n",
              "rate_code            0\n",
              "passenger_count      0\n",
              "trip_time_in_secs    0\n",
              "trip_distance        0\n",
              "payment_type         0\n",
              "fare_amount          0\n",
              "dtype: int64"
            ]
          },
          "metadata": {},
          "execution_count": 4
        }
      ]
    },
    {
      "cell_type": "markdown",
      "metadata": {
        "id": "DyiHUKezcSR0"
      },
      "source": [
        "**Check Non-numerical/categorical values in the dataset**\n",
        "\n",
        "> As our model can't work on categorical values, we will need to find out if there is any categorical value in the dataset\n",
        "\n"
      ]
    },
    {
      "cell_type": "code",
      "metadata": {
        "id": "lN3Qwngk_0tZ",
        "colab": {
          "base_uri": "https://localhost:8080/"
        },
        "outputId": "461b133e-e260-4cba-a7b6-d962ed2aad74"
      },
      "source": [
        "train_data.dtypes"
      ],
      "execution_count": 5,
      "outputs": [
        {
          "output_type": "execute_result",
          "data": {
            "text/plain": [
              "vendor_id             object\n",
              "rate_code              int64\n",
              "passenger_count        int64\n",
              "trip_time_in_secs      int64\n",
              "trip_distance        float64\n",
              "payment_type          object\n",
              "fare_amount          float64\n",
              "dtype: object"
            ]
          },
          "metadata": {},
          "execution_count": 5
        }
      ]
    },
    {
      "cell_type": "markdown",
      "metadata": {
        "id": "ng698QH0cuxh"
      },
      "source": [
        "**Encoding categorical data**\n",
        "> We have two columns with categorical data in our training dataset - vendor_id and payment_type. We will encode these using One Hot Encoder. In one hot encoding, for each level of a categorical feature, we create a new variable. Each category is mapped with a binary variable containing either 0 or 1. Here, 0 represents the absence, and 1 represents the presence of that category.\n",
        "\n",
        "\n"
      ]
    },
    {
      "cell_type": "code",
      "metadata": {
        "id": "B4lY6fbG_qmB"
      },
      "source": [
        "OHE = ce.OneHotEncoder(cols=['vendor_id',\n",
        "                             'payment_type'],use_cat_names=True)\n",
        "\n",
        "# encode the categorical variables in train data\n",
        "train_data = OHE.fit_transform(train_data)"
      ],
      "execution_count": null,
      "outputs": []
    },
    {
      "cell_type": "markdown",
      "metadata": {
        "id": "glvgZdVleV24"
      },
      "source": [
        "**State of training dataset after encoding**\n",
        "\n",
        "\n",
        "> Once we encoded the columns 'vendor_id' and 'payment_type' it created two separate columns for vendor_id as it has two categorical values and five separate columns for 'payment_type' as it has five separate categorical values \n",
        "\n"
      ]
    },
    {
      "cell_type": "code",
      "metadata": {
        "colab": {
          "base_uri": "https://localhost:8080/",
          "height": 223
        },
        "id": "qHlQxAs6I1Pr",
        "outputId": "2b2cf4bc-86e8-47dd-ced0-19e973b7d7cb"
      },
      "source": [
        "train_data.head()"
      ],
      "execution_count": 7,
      "outputs": [
        {
          "output_type": "execute_result",
          "data": {
            "text/html": [
              "<div>\n",
              "<style scoped>\n",
              "    .dataframe tbody tr th:only-of-type {\n",
              "        vertical-align: middle;\n",
              "    }\n",
              "\n",
              "    .dataframe tbody tr th {\n",
              "        vertical-align: top;\n",
              "    }\n",
              "\n",
              "    .dataframe thead th {\n",
              "        text-align: right;\n",
              "    }\n",
              "</style>\n",
              "<table border=\"1\" class=\"dataframe\">\n",
              "  <thead>\n",
              "    <tr style=\"text-align: right;\">\n",
              "      <th></th>\n",
              "      <th>vendor_id_CMT</th>\n",
              "      <th>vendor_id_VTS</th>\n",
              "      <th>rate_code</th>\n",
              "      <th>passenger_count</th>\n",
              "      <th>trip_time_in_secs</th>\n",
              "      <th>trip_distance</th>\n",
              "      <th>payment_type_CRD</th>\n",
              "      <th>payment_type_CSH</th>\n",
              "      <th>payment_type_NOC</th>\n",
              "      <th>payment_type_DIS</th>\n",
              "      <th>payment_type_UNK</th>\n",
              "      <th>fare_amount</th>\n",
              "    </tr>\n",
              "  </thead>\n",
              "  <tbody>\n",
              "    <tr>\n",
              "      <th>0</th>\n",
              "      <td>1</td>\n",
              "      <td>0</td>\n",
              "      <td>1</td>\n",
              "      <td>1</td>\n",
              "      <td>1271</td>\n",
              "      <td>3.8</td>\n",
              "      <td>1</td>\n",
              "      <td>0</td>\n",
              "      <td>0</td>\n",
              "      <td>0</td>\n",
              "      <td>0</td>\n",
              "      <td>17.5</td>\n",
              "    </tr>\n",
              "    <tr>\n",
              "      <th>1</th>\n",
              "      <td>1</td>\n",
              "      <td>0</td>\n",
              "      <td>1</td>\n",
              "      <td>1</td>\n",
              "      <td>474</td>\n",
              "      <td>1.5</td>\n",
              "      <td>1</td>\n",
              "      <td>0</td>\n",
              "      <td>0</td>\n",
              "      <td>0</td>\n",
              "      <td>0</td>\n",
              "      <td>8.0</td>\n",
              "    </tr>\n",
              "    <tr>\n",
              "      <th>2</th>\n",
              "      <td>1</td>\n",
              "      <td>0</td>\n",
              "      <td>1</td>\n",
              "      <td>1</td>\n",
              "      <td>637</td>\n",
              "      <td>1.4</td>\n",
              "      <td>1</td>\n",
              "      <td>0</td>\n",
              "      <td>0</td>\n",
              "      <td>0</td>\n",
              "      <td>0</td>\n",
              "      <td>8.5</td>\n",
              "    </tr>\n",
              "    <tr>\n",
              "      <th>3</th>\n",
              "      <td>1</td>\n",
              "      <td>0</td>\n",
              "      <td>1</td>\n",
              "      <td>1</td>\n",
              "      <td>181</td>\n",
              "      <td>0.6</td>\n",
              "      <td>0</td>\n",
              "      <td>1</td>\n",
              "      <td>0</td>\n",
              "      <td>0</td>\n",
              "      <td>0</td>\n",
              "      <td>4.5</td>\n",
              "    </tr>\n",
              "    <tr>\n",
              "      <th>4</th>\n",
              "      <td>1</td>\n",
              "      <td>0</td>\n",
              "      <td>1</td>\n",
              "      <td>1</td>\n",
              "      <td>661</td>\n",
              "      <td>1.1</td>\n",
              "      <td>1</td>\n",
              "      <td>0</td>\n",
              "      <td>0</td>\n",
              "      <td>0</td>\n",
              "      <td>0</td>\n",
              "      <td>8.5</td>\n",
              "    </tr>\n",
              "  </tbody>\n",
              "</table>\n",
              "</div>"
            ],
            "text/plain": [
              "   vendor_id_CMT  vendor_id_VTS  ...  payment_type_UNK  fare_amount\n",
              "0              1              0  ...                 0         17.5\n",
              "1              1              0  ...                 0          8.0\n",
              "2              1              0  ...                 0          8.5\n",
              "3              1              0  ...                 0          4.5\n",
              "4              1              0  ...                 0          8.5\n",
              "\n",
              "[5 rows x 12 columns]"
            ]
          },
          "metadata": {},
          "execution_count": 7
        }
      ]
    },
    {
      "cell_type": "markdown",
      "metadata": {
        "id": "eLcjpTu4Ms-P"
      },
      "source": [
        "**Separating features and label**\n",
        "> In this step we will separate the features and label. We will save the features from training dataset in train_X and label in train_Y.\n",
        "\n",
        "\n",
        "\n"
      ]
    },
    {
      "cell_type": "code",
      "metadata": {
        "id": "coDjt04-C5U6"
      },
      "source": [
        "train_X = train_data.drop(columns=['fare_amount'])\n",
        "train_Y = train_data['fare_amount']"
      ],
      "execution_count": 8,
      "outputs": []
    },
    {
      "cell_type": "markdown",
      "metadata": {
        "id": "WXPTd8UxNPmP"
      },
      "source": [
        "**Preparing test dataset**\n",
        "\n",
        "\n",
        "> In this step, we will process our test dataset in the same way we did for our training dataset. First we will check and remove null and categorical values. Then we will encode categorical values and save the features and label in two separate variables named test_X and test_Y\n",
        "\n"
      ]
    },
    {
      "cell_type": "code",
      "metadata": {
        "colab": {
          "base_uri": "https://localhost:8080/"
        },
        "id": "7CcJS5rpJHla",
        "outputId": "9bd31952-e993-486c-c754-628d53242f45"
      },
      "source": [
        "test_data.isna().sum() "
      ],
      "execution_count": 9,
      "outputs": [
        {
          "output_type": "execute_result",
          "data": {
            "text/plain": [
              "vendor_id            0\n",
              "rate_code            0\n",
              "passenger_count      0\n",
              "trip_time_in_secs    0\n",
              "trip_distance        0\n",
              "payment_type         0\n",
              "fare_amount          0\n",
              "dtype: int64"
            ]
          },
          "metadata": {},
          "execution_count": 9
        }
      ]
    },
    {
      "cell_type": "code",
      "metadata": {
        "colab": {
          "base_uri": "https://localhost:8080/"
        },
        "id": "QlEmc_KsJN0_",
        "outputId": "21db76f1-e22f-44fc-8eb8-1bdee6a6a562"
      },
      "source": [
        "test_data.dtypes"
      ],
      "execution_count": 10,
      "outputs": [
        {
          "output_type": "execute_result",
          "data": {
            "text/plain": [
              "vendor_id             object\n",
              "rate_code              int64\n",
              "passenger_count        int64\n",
              "trip_time_in_secs      int64\n",
              "trip_distance        float64\n",
              "payment_type          object\n",
              "fare_amount          float64\n",
              "dtype: object"
            ]
          },
          "metadata": {},
          "execution_count": 10
        }
      ]
    },
    {
      "cell_type": "code",
      "metadata": {
        "colab": {
          "base_uri": "https://localhost:8080/"
        },
        "id": "oA__szWgJbuM",
        "outputId": "d0fcfe89-d5ba-4859-f42a-f32cdc847963"
      },
      "source": [
        "# encode the categorical variables in test data\n",
        "test_data = OHE.fit_transform(test_data)"
      ],
      "execution_count": 11,
      "outputs": [
        {
          "output_type": "stream",
          "name": "stderr",
          "text": [
            "is_categorical is deprecated and will be removed in a future version.  Use is_categorical_dtype instead\n"
          ]
        }
      ]
    },
    {
      "cell_type": "code",
      "metadata": {
        "id": "mOypnxkoJj0v"
      },
      "source": [
        "test_X = test_data.drop(columns=['fare_amount'])\n",
        "test_Y = test_data['fare_amount']"
      ],
      "execution_count": 12,
      "outputs": []
    },
    {
      "cell_type": "markdown",
      "metadata": {
        "id": "MEsBhtW_N1yB"
      },
      "source": [
        "**Training Model**\n",
        "\n",
        "> In this step we will use traing using linear regression. We have fit a linear regression model to our training dataset. \n",
        "\n"
      ]
    },
    {
      "cell_type": "code",
      "metadata": {
        "id": "ZyVNmsaxDhm2"
      },
      "source": [
        "model_LR = LinearRegression()"
      ],
      "execution_count": 13,
      "outputs": []
    },
    {
      "cell_type": "code",
      "metadata": {
        "colab": {
          "base_uri": "https://localhost:8080/"
        },
        "id": "FK514-5pJrZ8",
        "outputId": "8c8574c0-bdbd-4096-9904-516f2e95bb86"
      },
      "source": [
        "# fit the model with the training data\n",
        "model_LR.fit(train_X, train_Y)"
      ],
      "execution_count": 14,
      "outputs": [
        {
          "output_type": "execute_result",
          "data": {
            "text/plain": [
              "LinearRegression()"
            ]
          },
          "metadata": {},
          "execution_count": 14
        }
      ]
    },
    {
      "cell_type": "markdown",
      "metadata": {
        "id": "RHoh9sQcUVLe"
      },
      "source": [
        "**Model Evaluation**"
      ]
    },
    {
      "cell_type": "code",
      "metadata": {
        "colab": {
          "base_uri": "https://localhost:8080/"
        },
        "id": "YodHIV9hGLkB",
        "outputId": "9a35bea6-b667-4769-f039-7786f6fe8ede"
      },
      "source": [
        "print(\"Score on training dataset- \", model_LR.score(train_X, train_Y))"
      ],
      "execution_count": 15,
      "outputs": [
        {
          "output_type": "stream",
          "name": "stdout",
          "text": [
            "Score on training dataset-  0.8751264185214683\n"
          ]
        }
      ]
    },
    {
      "cell_type": "code",
      "metadata": {
        "colab": {
          "base_uri": "https://localhost:8080/"
        },
        "id": "aaevGa5kGN26",
        "outputId": "af1894d9-8ede-44c3-e1c5-50a411d9533f"
      },
      "source": [
        "print(\"Score on test dataset- \", model_LR.score(test_X, test_Y))"
      ],
      "execution_count": 16,
      "outputs": [
        {
          "output_type": "stream",
          "name": "stdout",
          "text": [
            "Score on test dataset-  0.802221456889139\n"
          ]
        }
      ]
    },
    {
      "cell_type": "code",
      "metadata": {
        "id": "1iaFl6-2YikU"
      },
      "source": [
        "predict_train = model_LR.predict(train_X)"
      ],
      "execution_count": 17,
      "outputs": []
    },
    {
      "cell_type": "code",
      "metadata": {
        "colab": {
          "base_uri": "https://localhost:8080/"
        },
        "id": "yQxVIg4ybFHf",
        "outputId": "ba5935f3-62cf-4098-8a09-1ae30095b2a2"
      },
      "source": [
        "print('Mean absolute error on train data: ', mean_absolute_error(train_Y, predict_train))"
      ],
      "execution_count": 18,
      "outputs": [
        {
          "output_type": "stream",
          "name": "stdout",
          "text": [
            "Mean absolute error on train data:  0.8483768403392281\n"
          ]
        }
      ]
    },
    {
      "cell_type": "code",
      "metadata": {
        "colab": {
          "base_uri": "https://localhost:8080/"
        },
        "id": "BL_EO5A5d7it",
        "outputId": "351440cc-2a02-4286-a19e-a47157c10afe"
      },
      "source": [
        "print('Mean absolute error percentage on train data: ', mean_absolute_percentage_error(train_Y, predict_train) * 100)"
      ],
      "execution_count": 19,
      "outputs": [
        {
          "output_type": "stream",
          "name": "stdout",
          "text": [
            "Mean absolute error percentage on train data:  7.358908309404945\n"
          ]
        }
      ]
    },
    {
      "cell_type": "code",
      "metadata": {
        "id": "D5GWlWW1H1Tn"
      },
      "source": [
        "predict_test = model_LR.predict(test_X)"
      ],
      "execution_count": 20,
      "outputs": []
    },
    {
      "cell_type": "code",
      "metadata": {
        "colab": {
          "base_uri": "https://localhost:8080/"
        },
        "id": "vqAjSmDqIHfV",
        "outputId": "e5e6b90a-3d29-4001-c6d9-08815d5c1f9b"
      },
      "source": [
        "print('Mean absolute error on test data: ', mean_absolute_error(test_Y, predict_test))"
      ],
      "execution_count": 21,
      "outputs": [
        {
          "output_type": "stream",
          "name": "stdout",
          "text": [
            "Mean absolute error on test data:  0.8732104119874754\n"
          ]
        }
      ]
    },
    {
      "cell_type": "code",
      "metadata": {
        "colab": {
          "base_uri": "https://localhost:8080/"
        },
        "id": "LlvjTzETIU2g",
        "outputId": "e6f91f24-60f6-47fb-bbfa-1b2d9a96fa82"
      },
      "source": [
        "print('Mean absolute error percentage on test data: ', mean_absolute_percentage_error(test_Y, predict_test) * 100)"
      ],
      "execution_count": 22,
      "outputs": [
        {
          "output_type": "stream",
          "name": "stdout",
          "text": [
            "Mean absolute error percentage on test data:  7.7218075216112885\n"
          ]
        }
      ]
    },
    {
      "cell_type": "markdown",
      "metadata": {
        "id": "5yS41Wu1Uha-"
      },
      "source": [
        ""
      ]
    },
    {
      "cell_type": "code",
      "metadata": {
        "id": "1nYFuJpdLxdo",
        "colab": {
          "base_uri": "https://localhost:8080/"
        },
        "outputId": "c0cc7f5d-0848-4206-fe47-0a218a660d9e"
      },
      "source": [
        "print(\"Model coefficients :\\n\")\n",
        "\n",
        "for i in range(train_X.shape[1]):\n",
        "    print(train_X.columns[i], \"=\", model_LR.coef_[i].round(4))"
      ],
      "execution_count": 23,
      "outputs": [
        {
          "output_type": "stream",
          "name": "stdout",
          "text": [
            "Model coefficients :\n",
            "\n",
            "vendor_id_CMT = -0.0023\n",
            "vendor_id_VTS = 0.0023\n",
            "rate_code = 9.2646\n",
            "passenger_count = -0.0072\n",
            "trip_time_in_secs = 0.0065\n",
            "trip_distance = 1.5728\n",
            "payment_type_CRD = 1.5885\n",
            "payment_type_CSH = 1.3651\n",
            "payment_type_NOC = -3.2031\n",
            "payment_type_DIS = -2.0214\n",
            "payment_type_UNK = 2.2709\n"
          ]
        }
      ]
    },
    {
      "cell_type": "markdown",
      "metadata": {
        "id": "y0swP1lQV4rw"
      },
      "source": [
        "**Predicting Taxi Fare**\n",
        "> We have already trained our model using training dataset. Now, we will predict taxi fare based on feature values of a selected row from our test dataset.\n",
        "\n",
        "\n",
        "> We have stored the row number for which we will give prediction in a variable named 'rowNumberToTest'. Based on it, we will print the predicted fare and actual fare for that row.\n",
        "\n",
        "\n",
        "\n",
        "\n"
      ]
    },
    {
      "cell_type": "code",
      "metadata": {
        "colab": {
          "base_uri": "https://localhost:8080/"
        },
        "id": "Y1xzlA4EKZ20",
        "outputId": "053beb5e-b71c-45ff-d35a-9762e0015945"
      },
      "source": [
        "rowNumberToTest = 22\n",
        "\n",
        "testDataIndexForPrediction = rowNumberToTest -2\n",
        "\n",
        "print(\"Predicted Fare: \", predict_test[testDataIndexForPrediction].round(2))\n",
        "print(\"Actual Fare: \", test_Y.iloc[testDataIndexForPrediction])"
      ],
      "execution_count": 24,
      "outputs": [
        {
          "output_type": "stream",
          "name": "stdout",
          "text": [
            "Predicted Fare:  7.08\n",
            "Actual Fare:  6.5\n"
          ]
        }
      ]
    },
    {
      "cell_type": "markdown",
      "metadata": {
        "id": "3w8uk1JLWhfI"
      },
      "source": [
        "**Model Explanation using SHAP**\n",
        "\n",
        "> In this phase, we will explain our model using SHAP\n",
        "\n"
      ]
    },
    {
      "cell_type": "code",
      "metadata": {
        "id": "9gbNKo8bJMei"
      },
      "source": [
        "X100 = shap.utils.sample(test_X, 100)"
      ],
      "execution_count": 25,
      "outputs": []
    },
    {
      "cell_type": "code",
      "metadata": {
        "id": "8R6VqvK3KzIb"
      },
      "source": [
        "explainer = shap.Explainer(model_LR.predict, X100)\n",
        "shap_values = explainer(test_X.head(100))"
      ],
      "execution_count": 26,
      "outputs": []
    },
    {
      "cell_type": "markdown",
      "metadata": {
        "id": "MtjAs02ZZsYM"
      },
      "source": [
        "**SHAP Feature importance**\n",
        "\n",
        "> In the following figure we have displayed feature importance calculated by SHAP values (features with large absolute Shapley values are important)\n",
        "\n"
      ]
    },
    {
      "cell_type": "code",
      "metadata": {
        "colab": {
          "base_uri": "https://localhost:8080/",
          "height": 386
        },
        "id": "q2UHjwE3K_tV",
        "outputId": "493b6316-ca6b-4be0-ba81-858a39d6d156"
      },
      "source": [
        "shap.summary_plot(shap_values, test_X, feature_names=test_X.columns, plot_type=\"bar\")"
      ],
      "execution_count": 27,
      "outputs": [
        {
          "output_type": "display_data",
          "data": {
            "image/png": "[encoded data removed]",
            "text/plain": [
              "<Figure size 576x424.8 with 1 Axes>"
            ]
          },
          "metadata": {
            "needs_background": "light"
          }
        }
      ]
    },
    {
      "cell_type": "markdown",
      "metadata": {
        "id": "2O9x4VvdaRqW"
      },
      "source": [
        "**Partial dependence plot (trip_distance)**\n",
        "> To understand a feature’s importance in a model it is necessary to understand both how changing that feature impacts the model’s output, and also the distribution of that feature’s values. To visualize this for a linear model we can build a classical partial dependence plot and show the distribution of feature values as a histogram on the x-axis.\n",
        "\n",
        "\n",
        "\n",
        "> The gray horizontal line in the plot below represents the expected value of the model when applied to the test dataset. The vertical gray line represents the average value of the **trip_distance** feature. Note that the blue partial dependence plot line (which the is average value of the model output when we fix the trip_distance feature to a given value) always passes through the interesection of the two gray expected value lines. We can consider this intersection point as the “center” of the partial dependence plot with respect to the data distribution.\n",
        "\n",
        "\n"
      ]
    },
    {
      "cell_type": "code",
      "metadata": {
        "id": "_nJTE-ptNbAJ",
        "colab": {
          "base_uri": "https://localhost:8080/",
          "height": 297
        },
        "outputId": "66fdcf72-f5d6-4bc6-c622-d86f756fb809"
      },
      "source": [
        "shap.plots.partial_dependence(\n",
        "    \"trip_distance\", model_LR.predict, X100, ice=False,\n",
        "    model_expected_value=True, feature_expected_value=True\n",
        ")"
      ],
      "execution_count": 28,
      "outputs": [
        {
          "output_type": "display_data",
          "data": {
            "image/png": "[encoded data removed]",
            "text/plain": [
              "<Figure size 432x288 with 4 Axes>"
            ]
          },
          "metadata": {
            "needs_background": "light"
          }
        }
      ]
    },
    {
      "cell_type": "markdown",
      "metadata": {
        "id": "SnB9do-ZbG72"
      },
      "source": [
        "**Reading SHAP values from partial dependence plots**\n",
        "\n",
        "> SHAP values can be very complicated to compute, but linear models are so simple that we can read the SHAP values right off the partial dependence plot. When we are explaining a prediction , the SHAP value for a specific feature  is just the difference between the expected model output and the partial dependence plot at the feature’s value.\n"
      ]
    },
    {
      "cell_type": "code",
      "metadata": {
        "id": "dewHhAVVO40v",
        "colab": {
          "base_uri": "https://localhost:8080/",
          "height": 297
        },
        "outputId": "de0fd5e6-6abf-49c4-dc3d-bcc0168e0dfa"
      },
      "source": [
        "shap.partial_dependence_plot(\n",
        "    \"trip_distance\", model_LR.predict, X100, model_expected_value=True,\n",
        "    feature_expected_value=True, ice=False,\n",
        "    shap_values=shap_values[testDataIndexForPrediction:testDataIndexForPrediction+1,:]\n",
        ")"
      ],
      "execution_count": 29,
      "outputs": [
        {
          "output_type": "display_data",
          "data": {
            "image/png": "[encoded data removed]",
            "text/plain": [
              "<Figure size 432x288 with 4 Axes>"
            ]
          },
          "metadata": {
            "needs_background": "light"
          }
        }
      ]
    },
    {
      "cell_type": "code",
      "metadata": {
        "id": "g-AXVV9YrOPS",
        "colab": {
          "base_uri": "https://localhost:8080/",
          "height": 337
        },
        "outputId": "387383be-9a85-4d5d-ae15-cde2add1a7d8"
      },
      "source": [
        "shap.plots.scatter(shap_values[:,\"trip_distance\"])"
      ],
      "execution_count": 30,
      "outputs": [
        {
          "output_type": "display_data",
          "data": {
            "image/png": "[encoded data removed]",
            "text/plain": [
              "<Figure size 432x360 with 2 Axes>"
            ]
          },
          "metadata": {
            "needs_background": "light"
          }
        }
      ]
    },
    {
      "cell_type": "markdown",
      "metadata": {
        "id": "1JW25UJUboKX"
      },
      "source": [
        "**Partial dependence plot (trip_time_in_secs)**"
      ]
    },
    {
      "cell_type": "code",
      "metadata": {
        "id": "ciex2XvpN52n",
        "colab": {
          "base_uri": "https://localhost:8080/",
          "height": 297
        },
        "outputId": "b14b0516-a43c-421e-e931-493039c82ce9"
      },
      "source": [
        "shap.plots.partial_dependence(\n",
        "    \"trip_time_in_secs\", model_LR.predict, X100, ice=False,\n",
        "    model_expected_value=True, feature_expected_value=True\n",
        ")"
      ],
      "execution_count": 31,
      "outputs": [
        {
          "output_type": "display_data",
          "data": {
            "image/png": "[encoded data removed]",
            "text/plain": [
              "<Figure size 432x288 with 4 Axes>"
            ]
          },
          "metadata": {
            "needs_background": "light"
          }
        }
      ]
    },
    {
      "cell_type": "code",
      "metadata": {
        "id": "5YO_i4NsPf7n",
        "colab": {
          "base_uri": "https://localhost:8080/",
          "height": 297
        },
        "outputId": "a06a211a-4f1d-4e18-c4d7-40a2acc37ff0"
      },
      "source": [
        "shap.partial_dependence_plot(\n",
        "    \"trip_time_in_secs\", model_LR.predict, X100, model_expected_value=True,\n",
        "    feature_expected_value=True, ice=False,\n",
        "    shap_values=shap_values[testDataIndexForPrediction:testDataIndexForPrediction+1,:]\n",
        ")"
      ],
      "execution_count": 32,
      "outputs": [
        {
          "output_type": "display_data",
          "data": {
            "image/png": "[encoded data removed]",
            "text/plain": [
              "<Figure size 432x288 with 4 Axes>"
            ]
          },
          "metadata": {
            "needs_background": "light"
          }
        }
      ]
    },
    {
      "cell_type": "code",
      "metadata": {
        "id": "O3k6Av0aPt1-",
        "colab": {
          "base_uri": "https://localhost:8080/",
          "height": 337
        },
        "outputId": "faaf440e-f2c6-4e31-9a21-d54614fc09c1"
      },
      "source": [
        "shap.plots.scatter(shap_values[:,\"trip_time_in_secs\"])"
      ],
      "execution_count": 33,
      "outputs": [
        {
          "output_type": "display_data",
          "data": {
            "image/png": "[encoded data removed]",
            "text/plain": [
              "<Figure size 432x360 with 2 Axes>"
            ]
          },
          "metadata": {
            "needs_background": "light"
          }
        }
      ]
    },
    {
      "cell_type": "markdown",
      "metadata": {
        "id": "a0NDLNaCb1Ox"
      },
      "source": [
        "**Waterfall Plot**\n",
        "\n",
        "> One the fundemental properties of Shapley values is that they always sum up to the difference between the game outcome when all players are present and the game outcome when no players are present. For machine learning models this means that SHAP values of all the input features will always sum up to the difference between baseline (expected) model output and the current model output for the prediction being explained. The easiest way to see this is through a waterfall plot that starts our background prior expectation for a taxi fare , and then adds features one at a time until we reach the current model output :\n",
        "\n"
      ]
    },
    {
      "cell_type": "code",
      "metadata": {
        "id": "6xqP32N3MFs7",
        "colab": {
          "base_uri": "https://localhost:8080/",
          "height": 471
        },
        "outputId": "5817c53c-ed7d-4890-8229-997a149e1c0c"
      },
      "source": [
        "\n",
        "shap.plots.waterfall(shap_values[testDataIndexForPrediction], max_display=14)"
      ],
      "execution_count": 34,
      "outputs": [
        {
          "output_type": "display_data",
          "data": {
            "image/png": "[encoded data removed]",
            "text/plain": [
              "<Figure size 576x504 with 3 Axes>"
            ]
          },
          "metadata": {}
        }
      ]
    }
  ]
}